{
  "nbformat": 4,
  "nbformat_minor": 0,
  "metadata": {
    "colab": {
      "provenance": []
    },
    "kernelspec": {
      "name": "python3",
      "display_name": "Python 3"
    },
    "language_info": {
      "name": "python"
    }
  },
  "cells": [
    {
      "cell_type": "code",
      "execution_count": 121,
      "metadata": {
        "id": "nFAa9OE32iGm"
      },
      "outputs": [],
      "source": [
        "import numpy as np\n",
        "import pandas as pd\n",
        "import matplotlib.pyplot as plt\n",
        "import seaborn as sns"
      ]
    },
    {
      "cell_type": "code",
      "source": [
        "pd.set_option('display.max_rows' , None)\n",
        "pd.set_option('display.max_columns' , None)"
      ],
      "metadata": {
        "id": "3Sp8jmWz2uRH"
      },
      "execution_count": 122,
      "outputs": []
    },
    {
      "cell_type": "code",
      "source": [
        "df1 = pd.read_csv('cleaned_flats_data.csv')\n",
        "df2 = pd.read_csv('cleaned_house_data.csv')"
      ],
      "metadata": {
        "id": "9Ej7d9q23SQV"
      },
      "execution_count": 123,
      "outputs": []
    },
    {
      "cell_type": "code",
      "source": [
        "df1.columns"
      ],
      "metadata": {
        "colab": {
          "base_uri": "https://localhost:8080/"
        },
        "id": "9mHVo5Fn1nuH",
        "outputId": "4a41e0cb-b7c8-4c73-940a-61e696b0052e"
      },
      "execution_count": 124,
      "outputs": [
        {
          "output_type": "execute_result",
          "data": {
            "text/plain": [
              "Index(['property_name', 'Property_type', 'society', 'price', 'price_per_sqft',\n",
              "       'area', 'areaWithType', 'bedRoom', 'bathroom', 'balcony',\n",
              "       'additionalRoom', 'address', 'floorNum', 'facing', 'agePossession',\n",
              "       'nearbyLocations', 'description', 'furnishDetails', 'features',\n",
              "       'rating'],\n",
              "      dtype='object')"
            ]
          },
          "metadata": {},
          "execution_count": 124
        }
      ]
    },
    {
      "cell_type": "code",
      "source": [
        "df2.columns"
      ],
      "metadata": {
        "colab": {
          "base_uri": "https://localhost:8080/"
        },
        "id": "_OrIyx0m1qLJ",
        "outputId": "415ecd0c-663a-426e-c6be-ac72dcdc4d2d"
      },
      "execution_count": 125,
      "outputs": [
        {
          "output_type": "execute_result",
          "data": {
            "text/plain": [
              "Index(['property_name', 'Property_type', 'society', 'price', 'price_per_sqft',\n",
              "       'area', 'areaWithType', 'bedRoom', 'bathroom', 'balcony',\n",
              "       'additionalRoom', 'address', 'floorNum', 'facing', 'agePossession',\n",
              "       'nearbyLocations', 'description', 'furnishDetails', 'features',\n",
              "       'rating'],\n",
              "      dtype='object')"
            ]
          },
          "metadata": {},
          "execution_count": 125
        }
      ]
    },
    {
      "cell_type": "code",
      "source": [
        "df = pd.concat([df1,df2],ignore_index=True)"
      ],
      "metadata": {
        "id": "nzGBnbc242FO"
      },
      "execution_count": 126,
      "outputs": []
    },
    {
      "cell_type": "code",
      "source": [
        "df = df.sample(df.shape[0],ignore_index=True)"
      ],
      "metadata": {
        "id": "WjNJ5OO82EHm"
      },
      "execution_count": 127,
      "outputs": []
    },
    {
      "cell_type": "code",
      "source": [
        "df.info()"
      ],
      "metadata": {
        "colab": {
          "base_uri": "https://localhost:8080/"
        },
        "id": "0JkKnycT9Vx2",
        "outputId": "17501e7b-4f66-462c-c7c2-59550c9b7128"
      },
      "execution_count": 128,
      "outputs": [
        {
          "output_type": "stream",
          "name": "stdout",
          "text": [
            "<class 'pandas.core.frame.DataFrame'>\n",
            "RangeIndex: 3961 entries, 0 to 3960\n",
            "Data columns (total 20 columns):\n",
            " #   Column           Non-Null Count  Dtype  \n",
            "---  ------           --------------  -----  \n",
            " 0   property_name    3961 non-null   object \n",
            " 1   Property_type    3961 non-null   object \n",
            " 2   society          3960 non-null   object \n",
            " 3   price            3941 non-null   float64\n",
            " 4   price_per_sqft   3941 non-null   float64\n",
            " 5   area             3941 non-null   float64\n",
            " 6   areaWithType     3961 non-null   object \n",
            " 7   bedRoom          3961 non-null   int64  \n",
            " 8   bathroom         3961 non-null   int64  \n",
            " 9   balcony          3961 non-null   object \n",
            " 10  additionalRoom   3961 non-null   object \n",
            " 11  address          3950 non-null   object \n",
            " 12  floorNum         3940 non-null   float64\n",
            " 13  facing           2784 non-null   object \n",
            " 14  agePossession    3960 non-null   object \n",
            " 15  nearbyLocations  3754 non-null   object \n",
            " 16  description      3961 non-null   object \n",
            " 17  furnishDetails   2929 non-null   object \n",
            " 18  features         3252 non-null   object \n",
            " 19  rating           3511 non-null   object \n",
            "dtypes: float64(4), int64(2), object(14)\n",
            "memory usage: 619.0+ KB\n"
          ]
        }
      ]
    },
    {
      "cell_type": "code",
      "source": [
        "# duplicate value\n",
        "df.duplicated().sum()"
      ],
      "metadata": {
        "colab": {
          "base_uri": "https://localhost:8080/"
        },
        "id": "i-jVbC5C3WFs",
        "outputId": "c3bb78ac-18b9-404a-97f8-b9046d2c8dc0"
      },
      "execution_count": 129,
      "outputs": [
        {
          "output_type": "execute_result",
          "data": {
            "text/plain": [
              "np.int64(0)"
            ]
          },
          "metadata": {},
          "execution_count": 129
        }
      ]
    },
    {
      "cell_type": "markdown",
      "source": [
        "- there are no duplicate values in dataset"
      ],
      "metadata": {
        "id": "KJZElLpB9k_a"
      }
    },
    {
      "cell_type": "code",
      "source": [
        "df.shape"
      ],
      "metadata": {
        "colab": {
          "base_uri": "https://localhost:8080/"
        },
        "id": "0uQCTXBzq179",
        "outputId": "d42171ff-38b5-4a2f-db98-4b3580565065"
      },
      "execution_count": 130,
      "outputs": [
        {
          "output_type": "execute_result",
          "data": {
            "text/plain": [
              "(3961, 20)"
            ]
          },
          "metadata": {},
          "execution_count": 130
        }
      ]
    },
    {
      "cell_type": "code",
      "source": [
        "df.head()"
      ],
      "metadata": {
        "colab": {
          "base_uri": "https://localhost:8080/",
          "height": 625
        },
        "id": "CNDxhJ1M2CfM",
        "outputId": "8628281c-2a18-47e7-c344-148ab5c8b88c"
      },
      "execution_count": 131,
      "outputs": [
        {
          "output_type": "execute_result",
          "data": {
            "text/plain": [
              "                                   property_name Property_type  \\\n",
              "0    7 Bedroom House for sale in Mianwali Colony         house   \n",
              "1                2 BHK Flat in Sector 77 Gurgaon          flat   \n",
              "2                3 BHK Flat in Sector 22 Gurgaon          flat   \n",
              "3       12 Bedroom House for sale in DLF Phase 2         house   \n",
              "4  5 Bedroom House for sale in Sector 28 Gurgaon         house   \n",
              "\n",
              "                  society  price  price_per_sqft    area  \\\n",
              "0             independent   2.90         10740.0  2700.0   \n",
              "1      umang winter hills   0.86          6408.0  1342.0   \n",
              "2      ambience creacions   2.55         13709.0  1860.0   \n",
              "3  dlf city plots phase 2  10.00        400000.0   250.0   \n",
              "4    suncity essel towers   8.95         17900.0  5000.0   \n",
              "\n",
              "                                        areaWithType  bedRoom  bathroom  \\\n",
              "0                       Plot area 2700(250.84 sq.m.)        7         7   \n",
              "1             Super Built up area 1342(124.68 sq.m.)        2         2   \n",
              "2  Super Built up area 1860(172.8 sq.m.)Built Up ...        3         3   \n",
              "3                         Plot area 250(23.23 sq.m.)       12        12   \n",
              "4                       Plot area 5000(464.52 sq.m.)        5         6   \n",
              "\n",
              "  balcony           additionalRoom                                    address  \\\n",
              "0       3            not available          Mianwali Colony, Gurgaon, Haryana   \n",
              "1       2            not available        Sector 77 Gurgaon, Gurgaon, Haryana   \n",
              "2       3                   others  A803, Sector 22 Gurgaon, Gurgaon, Haryana   \n",
              "3      3+  study room,servant room     Kkmb108, DLF Phase 2, Gurgaon, Haryana   \n",
              "4      3+            not available        Sector 28 Gurgaon, Gurgaon, Haryana   \n",
              "\n",
              "   floorNum      facing     agePossession  \\\n",
              "0       2.0  South-West      10+ Year Old   \n",
              "1      16.0         NaN   0 to 1 Year Old   \n",
              "2       8.0  North-East   1 to 5 Year Old   \n",
              "3       4.0       North   1 to 5 Year Old   \n",
              "4       4.0         NaN  5 to 10 Year Old   \n",
              "\n",
              "                                     nearbyLocations  \\\n",
              "0  ['Hanuman Mandir', 'Sheetla Mata Mandir', 'M G...   \n",
              "1  ['Entertainland Mall', 'Delhi Jaipur Expresswa...   \n",
              "2  ['Moulsari Avenue', 'Ambience Mall', 'Old Delh...   \n",
              "3  ['Vodafone belvedere towers metro station', 'D...   \n",
              "4  ['Iffco chowk metro station', 'Mg road metro s...   \n",
              "\n",
              "                                         description  \\\n",
              "0  Walking distance from gurgaon main bus stand a...   \n",
              "1  We are the proud owners of this 2 bhk apartmen...   \n",
              "2  This 3 bhk flat is located in ambience creacio...   \n",
              "3  12 bedroom with 1 study room.On every floor fl...   \n",
              "4  East entry vastu perfect\\nLot of daylight, no ...   \n",
              "\n",
              "                                      furnishDetails  \\\n",
              "0                                                NaN   \n",
              "1  ['1 Water Purifier', '5 Fan', '3 Geyser', '1 S...   \n",
              "2  ['3 Wardrobe', '5 Fan', '1 Fridge', '1 Exhaust...   \n",
              "3  ['24 Fan', '1 Exhaust Fan', '12 Geyser', '1 St...   \n",
              "4                                                NaN   \n",
              "\n",
              "                                            features  \\\n",
              "0                                  ['Water Storage']   \n",
              "1  ['Security / Fire Alarm', 'Feng Shui / Vaastu ...   \n",
              "2  ['Security / Fire Alarm', 'Feng Shui / Vaastu ...   \n",
              "3  ['Security / Fire Alarm', 'Feng Shui / Vaastu ...   \n",
              "4                                                NaN   \n",
              "\n",
              "                                              rating  \n",
              "0  ['Environment3.5 out of 5', 'Lifestyle4 out of...  \n",
              "1  ['Green Area5 out of 5', 'Construction5 out of...  \n",
              "2  ['Environment4 out of 5', 'Lifestyle4 out of 5...  \n",
              "3  ['Environment5 out of 5', 'Lifestyle5 out of 5...  \n",
              "4  ['Environment4 out of 5', 'Lifestyle5 out of 5...  "
            ],
            "text/html": [
              "\n",
              "  <div id=\"df-1120b41c-b5fa-4624-8114-9e08471c3584\" class=\"colab-df-container\">\n",
              "    <div>\n",
              "<style scoped>\n",
              "    .dataframe tbody tr th:only-of-type {\n",
              "        vertical-align: middle;\n",
              "    }\n",
              "\n",
              "    .dataframe tbody tr th {\n",
              "        vertical-align: top;\n",
              "    }\n",
              "\n",
              "    .dataframe thead th {\n",
              "        text-align: right;\n",
              "    }\n",
              "</style>\n",
              "<table border=\"1\" class=\"dataframe\">\n",
              "  <thead>\n",
              "    <tr style=\"text-align: right;\">\n",
              "      <th></th>\n",
              "      <th>property_name</th>\n",
              "      <th>Property_type</th>\n",
              "      <th>society</th>\n",
              "      <th>price</th>\n",
              "      <th>price_per_sqft</th>\n",
              "      <th>area</th>\n",
              "      <th>areaWithType</th>\n",
              "      <th>bedRoom</th>\n",
              "      <th>bathroom</th>\n",
              "      <th>balcony</th>\n",
              "      <th>additionalRoom</th>\n",
              "      <th>address</th>\n",
              "      <th>floorNum</th>\n",
              "      <th>facing</th>\n",
              "      <th>agePossession</th>\n",
              "      <th>nearbyLocations</th>\n",
              "      <th>description</th>\n",
              "      <th>furnishDetails</th>\n",
              "      <th>features</th>\n",
              "      <th>rating</th>\n",
              "    </tr>\n",
              "  </thead>\n",
              "  <tbody>\n",
              "    <tr>\n",
              "      <th>0</th>\n",
              "      <td>7 Bedroom House for sale in Mianwali Colony</td>\n",
              "      <td>house</td>\n",
              "      <td>independent</td>\n",
              "      <td>2.90</td>\n",
              "      <td>10740.0</td>\n",
              "      <td>2700.0</td>\n",
              "      <td>Plot area 2700(250.84 sq.m.)</td>\n",
              "      <td>7</td>\n",
              "      <td>7</td>\n",
              "      <td>3</td>\n",
              "      <td>not available</td>\n",
              "      <td>Mianwali Colony, Gurgaon, Haryana</td>\n",
              "      <td>2.0</td>\n",
              "      <td>South-West</td>\n",
              "      <td>10+ Year Old</td>\n",
              "      <td>['Hanuman Mandir', 'Sheetla Mata Mandir', 'M G...</td>\n",
              "      <td>Walking distance from gurgaon main bus stand a...</td>\n",
              "      <td>NaN</td>\n",
              "      <td>['Water Storage']</td>\n",
              "      <td>['Environment3.5 out of 5', 'Lifestyle4 out of...</td>\n",
              "    </tr>\n",
              "    <tr>\n",
              "      <th>1</th>\n",
              "      <td>2 BHK Flat in Sector 77 Gurgaon</td>\n",
              "      <td>flat</td>\n",
              "      <td>umang winter hills</td>\n",
              "      <td>0.86</td>\n",
              "      <td>6408.0</td>\n",
              "      <td>1342.0</td>\n",
              "      <td>Super Built up area 1342(124.68 sq.m.)</td>\n",
              "      <td>2</td>\n",
              "      <td>2</td>\n",
              "      <td>2</td>\n",
              "      <td>not available</td>\n",
              "      <td>Sector 77 Gurgaon, Gurgaon, Haryana</td>\n",
              "      <td>16.0</td>\n",
              "      <td>NaN</td>\n",
              "      <td>0 to 1 Year Old</td>\n",
              "      <td>['Entertainland Mall', 'Delhi Jaipur Expresswa...</td>\n",
              "      <td>We are the proud owners of this 2 bhk apartmen...</td>\n",
              "      <td>['1 Water Purifier', '5 Fan', '3 Geyser', '1 S...</td>\n",
              "      <td>['Security / Fire Alarm', 'Feng Shui / Vaastu ...</td>\n",
              "      <td>['Green Area5 out of 5', 'Construction5 out of...</td>\n",
              "    </tr>\n",
              "    <tr>\n",
              "      <th>2</th>\n",
              "      <td>3 BHK Flat in Sector 22 Gurgaon</td>\n",
              "      <td>flat</td>\n",
              "      <td>ambience creacions</td>\n",
              "      <td>2.55</td>\n",
              "      <td>13709.0</td>\n",
              "      <td>1860.0</td>\n",
              "      <td>Super Built up area 1860(172.8 sq.m.)Built Up ...</td>\n",
              "      <td>3</td>\n",
              "      <td>3</td>\n",
              "      <td>3</td>\n",
              "      <td>others</td>\n",
              "      <td>A803, Sector 22 Gurgaon, Gurgaon, Haryana</td>\n",
              "      <td>8.0</td>\n",
              "      <td>North-East</td>\n",
              "      <td>1 to 5 Year Old</td>\n",
              "      <td>['Moulsari Avenue', 'Ambience Mall', 'Old Delh...</td>\n",
              "      <td>This 3 bhk flat is located in ambience creacio...</td>\n",
              "      <td>['3 Wardrobe', '5 Fan', '1 Fridge', '1 Exhaust...</td>\n",
              "      <td>['Security / Fire Alarm', 'Feng Shui / Vaastu ...</td>\n",
              "      <td>['Environment4 out of 5', 'Lifestyle4 out of 5...</td>\n",
              "    </tr>\n",
              "    <tr>\n",
              "      <th>3</th>\n",
              "      <td>12 Bedroom House for sale in DLF Phase 2</td>\n",
              "      <td>house</td>\n",
              "      <td>dlf city plots phase 2</td>\n",
              "      <td>10.00</td>\n",
              "      <td>400000.0</td>\n",
              "      <td>250.0</td>\n",
              "      <td>Plot area 250(23.23 sq.m.)</td>\n",
              "      <td>12</td>\n",
              "      <td>12</td>\n",
              "      <td>3+</td>\n",
              "      <td>study room,servant room</td>\n",
              "      <td>Kkmb108, DLF Phase 2, Gurgaon, Haryana</td>\n",
              "      <td>4.0</td>\n",
              "      <td>North</td>\n",
              "      <td>1 to 5 Year Old</td>\n",
              "      <td>['Vodafone belvedere towers metro station', 'D...</td>\n",
              "      <td>12 bedroom with 1 study room.On every floor fl...</td>\n",
              "      <td>['24 Fan', '1 Exhaust Fan', '12 Geyser', '1 St...</td>\n",
              "      <td>['Security / Fire Alarm', 'Feng Shui / Vaastu ...</td>\n",
              "      <td>['Environment5 out of 5', 'Lifestyle5 out of 5...</td>\n",
              "    </tr>\n",
              "    <tr>\n",
              "      <th>4</th>\n",
              "      <td>5 Bedroom House for sale in Sector 28 Gurgaon</td>\n",
              "      <td>house</td>\n",
              "      <td>suncity essel towers</td>\n",
              "      <td>8.95</td>\n",
              "      <td>17900.0</td>\n",
              "      <td>5000.0</td>\n",
              "      <td>Plot area 5000(464.52 sq.m.)</td>\n",
              "      <td>5</td>\n",
              "      <td>6</td>\n",
              "      <td>3+</td>\n",
              "      <td>not available</td>\n",
              "      <td>Sector 28 Gurgaon, Gurgaon, Haryana</td>\n",
              "      <td>4.0</td>\n",
              "      <td>NaN</td>\n",
              "      <td>5 to 10 Year Old</td>\n",
              "      <td>['Iffco chowk metro station', 'Mg road metro s...</td>\n",
              "      <td>East entry vastu perfect\\nLot of daylight, no ...</td>\n",
              "      <td>NaN</td>\n",
              "      <td>NaN</td>\n",
              "      <td>['Environment4 out of 5', 'Lifestyle5 out of 5...</td>\n",
              "    </tr>\n",
              "  </tbody>\n",
              "</table>\n",
              "</div>\n",
              "    <div class=\"colab-df-buttons\">\n",
              "\n",
              "  <div class=\"colab-df-container\">\n",
              "    <button class=\"colab-df-convert\" onclick=\"convertToInteractive('df-1120b41c-b5fa-4624-8114-9e08471c3584')\"\n",
              "            title=\"Convert this dataframe to an interactive table.\"\n",
              "            style=\"display:none;\">\n",
              "\n",
              "  <svg xmlns=\"http://www.w3.org/2000/svg\" height=\"24px\" viewBox=\"0 -960 960 960\">\n",
              "    <path d=\"M120-120v-720h720v720H120Zm60-500h600v-160H180v160Zm220 220h160v-160H400v160Zm0 220h160v-160H400v160ZM180-400h160v-160H180v160Zm440 0h160v-160H620v160ZM180-180h160v-160H180v160Zm440 0h160v-160H620v160Z\"/>\n",
              "  </svg>\n",
              "    </button>\n",
              "\n",
              "  <style>\n",
              "    .colab-df-container {\n",
              "      display:flex;\n",
              "      gap: 12px;\n",
              "    }\n",
              "\n",
              "    .colab-df-convert {\n",
              "      background-color: #E8F0FE;\n",
              "      border: none;\n",
              "      border-radius: 50%;\n",
              "      cursor: pointer;\n",
              "      display: none;\n",
              "      fill: #1967D2;\n",
              "      height: 32px;\n",
              "      padding: 0 0 0 0;\n",
              "      width: 32px;\n",
              "    }\n",
              "\n",
              "    .colab-df-convert:hover {\n",
              "      background-color: #E2EBFA;\n",
              "      box-shadow: 0px 1px 2px rgba(60, 64, 67, 0.3), 0px 1px 3px 1px rgba(60, 64, 67, 0.15);\n",
              "      fill: #174EA6;\n",
              "    }\n",
              "\n",
              "    .colab-df-buttons div {\n",
              "      margin-bottom: 4px;\n",
              "    }\n",
              "\n",
              "    [theme=dark] .colab-df-convert {\n",
              "      background-color: #3B4455;\n",
              "      fill: #D2E3FC;\n",
              "    }\n",
              "\n",
              "    [theme=dark] .colab-df-convert:hover {\n",
              "      background-color: #434B5C;\n",
              "      box-shadow: 0px 1px 3px 1px rgba(0, 0, 0, 0.15);\n",
              "      filter: drop-shadow(0px 1px 2px rgba(0, 0, 0, 0.3));\n",
              "      fill: #FFFFFF;\n",
              "    }\n",
              "  </style>\n",
              "\n",
              "    <script>\n",
              "      const buttonEl =\n",
              "        document.querySelector('#df-1120b41c-b5fa-4624-8114-9e08471c3584 button.colab-df-convert');\n",
              "      buttonEl.style.display =\n",
              "        google.colab.kernel.accessAllowed ? 'block' : 'none';\n",
              "\n",
              "      async function convertToInteractive(key) {\n",
              "        const element = document.querySelector('#df-1120b41c-b5fa-4624-8114-9e08471c3584');\n",
              "        const dataTable =\n",
              "          await google.colab.kernel.invokeFunction('convertToInteractive',\n",
              "                                                    [key], {});\n",
              "        if (!dataTable) return;\n",
              "\n",
              "        const docLinkHtml = 'Like what you see? Visit the ' +\n",
              "          '<a target=\"_blank\" href=https://colab.research.google.com/notebooks/data_table.ipynb>data table notebook</a>'\n",
              "          + ' to learn more about interactive tables.';\n",
              "        element.innerHTML = '';\n",
              "        dataTable['output_type'] = 'display_data';\n",
              "        await google.colab.output.renderOutput(dataTable, element);\n",
              "        const docLink = document.createElement('div');\n",
              "        docLink.innerHTML = docLinkHtml;\n",
              "        element.appendChild(docLink);\n",
              "      }\n",
              "    </script>\n",
              "  </div>\n",
              "\n",
              "\n",
              "    <div id=\"df-eeb3cd30-e51d-410e-96a1-47fa54e44a2d\">\n",
              "      <button class=\"colab-df-quickchart\" onclick=\"quickchart('df-eeb3cd30-e51d-410e-96a1-47fa54e44a2d')\"\n",
              "                title=\"Suggest charts\"\n",
              "                style=\"display:none;\">\n",
              "\n",
              "<svg xmlns=\"http://www.w3.org/2000/svg\" height=\"24px\"viewBox=\"0 0 24 24\"\n",
              "     width=\"24px\">\n",
              "    <g>\n",
              "        <path d=\"M19 3H5c-1.1 0-2 .9-2 2v14c0 1.1.9 2 2 2h14c1.1 0 2-.9 2-2V5c0-1.1-.9-2-2-2zM9 17H7v-7h2v7zm4 0h-2V7h2v10zm4 0h-2v-4h2v4z\"/>\n",
              "    </g>\n",
              "</svg>\n",
              "      </button>\n",
              "\n",
              "<style>\n",
              "  .colab-df-quickchart {\n",
              "      --bg-color: #E8F0FE;\n",
              "      --fill-color: #1967D2;\n",
              "      --hover-bg-color: #E2EBFA;\n",
              "      --hover-fill-color: #174EA6;\n",
              "      --disabled-fill-color: #AAA;\n",
              "      --disabled-bg-color: #DDD;\n",
              "  }\n",
              "\n",
              "  [theme=dark] .colab-df-quickchart {\n",
              "      --bg-color: #3B4455;\n",
              "      --fill-color: #D2E3FC;\n",
              "      --hover-bg-color: #434B5C;\n",
              "      --hover-fill-color: #FFFFFF;\n",
              "      --disabled-bg-color: #3B4455;\n",
              "      --disabled-fill-color: #666;\n",
              "  }\n",
              "\n",
              "  .colab-df-quickchart {\n",
              "    background-color: var(--bg-color);\n",
              "    border: none;\n",
              "    border-radius: 50%;\n",
              "    cursor: pointer;\n",
              "    display: none;\n",
              "    fill: var(--fill-color);\n",
              "    height: 32px;\n",
              "    padding: 0;\n",
              "    width: 32px;\n",
              "  }\n",
              "\n",
              "  .colab-df-quickchart:hover {\n",
              "    background-color: var(--hover-bg-color);\n",
              "    box-shadow: 0 1px 2px rgba(60, 64, 67, 0.3), 0 1px 3px 1px rgba(60, 64, 67, 0.15);\n",
              "    fill: var(--button-hover-fill-color);\n",
              "  }\n",
              "\n",
              "  .colab-df-quickchart-complete:disabled,\n",
              "  .colab-df-quickchart-complete:disabled:hover {\n",
              "    background-color: var(--disabled-bg-color);\n",
              "    fill: var(--disabled-fill-color);\n",
              "    box-shadow: none;\n",
              "  }\n",
              "\n",
              "  .colab-df-spinner {\n",
              "    border: 2px solid var(--fill-color);\n",
              "    border-color: transparent;\n",
              "    border-bottom-color: var(--fill-color);\n",
              "    animation:\n",
              "      spin 1s steps(1) infinite;\n",
              "  }\n",
              "\n",
              "  @keyframes spin {\n",
              "    0% {\n",
              "      border-color: transparent;\n",
              "      border-bottom-color: var(--fill-color);\n",
              "      border-left-color: var(--fill-color);\n",
              "    }\n",
              "    20% {\n",
              "      border-color: transparent;\n",
              "      border-left-color: var(--fill-color);\n",
              "      border-top-color: var(--fill-color);\n",
              "    }\n",
              "    30% {\n",
              "      border-color: transparent;\n",
              "      border-left-color: var(--fill-color);\n",
              "      border-top-color: var(--fill-color);\n",
              "      border-right-color: var(--fill-color);\n",
              "    }\n",
              "    40% {\n",
              "      border-color: transparent;\n",
              "      border-right-color: var(--fill-color);\n",
              "      border-top-color: var(--fill-color);\n",
              "    }\n",
              "    60% {\n",
              "      border-color: transparent;\n",
              "      border-right-color: var(--fill-color);\n",
              "    }\n",
              "    80% {\n",
              "      border-color: transparent;\n",
              "      border-right-color: var(--fill-color);\n",
              "      border-bottom-color: var(--fill-color);\n",
              "    }\n",
              "    90% {\n",
              "      border-color: transparent;\n",
              "      border-bottom-color: var(--fill-color);\n",
              "    }\n",
              "  }\n",
              "</style>\n",
              "\n",
              "      <script>\n",
              "        async function quickchart(key) {\n",
              "          const quickchartButtonEl =\n",
              "            document.querySelector('#' + key + ' button');\n",
              "          quickchartButtonEl.disabled = true;  // To prevent multiple clicks.\n",
              "          quickchartButtonEl.classList.add('colab-df-spinner');\n",
              "          try {\n",
              "            const charts = await google.colab.kernel.invokeFunction(\n",
              "                'suggestCharts', [key], {});\n",
              "          } catch (error) {\n",
              "            console.error('Error during call to suggestCharts:', error);\n",
              "          }\n",
              "          quickchartButtonEl.classList.remove('colab-df-spinner');\n",
              "          quickchartButtonEl.classList.add('colab-df-quickchart-complete');\n",
              "        }\n",
              "        (() => {\n",
              "          let quickchartButtonEl =\n",
              "            document.querySelector('#df-eeb3cd30-e51d-410e-96a1-47fa54e44a2d button');\n",
              "          quickchartButtonEl.style.display =\n",
              "            google.colab.kernel.accessAllowed ? 'block' : 'none';\n",
              "        })();\n",
              "      </script>\n",
              "    </div>\n",
              "\n",
              "    </div>\n",
              "  </div>\n"
            ],
            "application/vnd.google.colaboratory.intrinsic+json": {
              "type": "dataframe",
              "variable_name": "df",
              "summary": "{\n  \"name\": \"df\",\n  \"rows\": 3961,\n  \"fields\": [\n    {\n      \"column\": \"property_name\",\n      \"properties\": {\n        \"dtype\": \"category\",\n        \"num_unique_values\": 946,\n        \"samples\": [\n          \"4 Bedroom House for sale in Sector 72 Gurgaon\",\n          \"2 BHK Flat in Sector-33 Sohna\",\n          \"3 Bedroom House for sale in Sector 15 Part 1\"\n        ],\n        \"semantic_type\": \"\",\n        \"description\": \"\"\n      }\n    },\n    {\n      \"column\": \"Property_type\",\n      \"properties\": {\n        \"dtype\": \"category\",\n        \"num_unique_values\": 2,\n        \"samples\": [\n          \"flat\",\n          \"house\"\n        ],\n        \"semantic_type\": \"\",\n        \"description\": \"\"\n      }\n    },\n    {\n      \"column\": \"society\",\n      \"properties\": {\n        \"dtype\": \"category\",\n        \"num_unique_values\": 725,\n        \"samples\": [\n          \"sector 37\",\n          \"raheja vedas\"\n        ],\n        \"semantic_type\": \"\",\n        \"description\": \"\"\n      }\n    },\n    {\n      \"column\": \"price\",\n      \"properties\": {\n        \"dtype\": \"number\",\n        \"std\": 2.922570306121648,\n        \"min\": 0.07,\n        \"max\": 31.5,\n        \"num_unique_values\": 479,\n        \"samples\": [\n          0.47,\n          0.18\n        ],\n        \"semantic_type\": \"\",\n        \"description\": \"\"\n      }\n    },\n    {\n      \"column\": \"price_per_sqft\",\n      \"properties\": {\n        \"dtype\": \"number\",\n        \"std\": 23181.16045921867,\n        \"min\": 2.0,\n        \"max\": 600000.0,\n        \"num_unique_values\": 2731,\n        \"samples\": [\n          28898.0,\n          5479.0\n        ],\n        \"semantic_type\": \"\",\n        \"description\": \"\"\n      }\n    },\n    {\n      \"column\": \"area\",\n      \"properties\": {\n        \"dtype\": \"number\",\n        \"std\": 117585.64710287363,\n        \"min\": 45.0,\n        \"max\": 7250000.0,\n        \"num_unique_values\": 1351,\n        \"samples\": [\n          483.0,\n          837.0\n        ],\n        \"semantic_type\": \"\",\n        \"description\": \"\"\n      }\n    },\n    {\n      \"column\": \"areaWithType\",\n      \"properties\": {\n        \"dtype\": \"string\",\n        \"num_unique_values\": 2443,\n        \"samples\": [\n          \"Super Built up area 1352(125.6 sq.m.)Built Up area: 1350 sq.ft. (125.42 sq.m.)\",\n          \"Super Built up area 2262(210.15 sq.m.)Built Up area: 1854 sq.ft. (172.24 sq.m.)Carpet area: 1576 sq.ft. (146.42 sq.m.)\"\n        ],\n        \"semantic_type\": \"\",\n        \"description\": \"\"\n      }\n    },\n    {\n      \"column\": \"bedRoom\",\n      \"properties\": {\n        \"dtype\": \"number\",\n        \"std\": 2,\n        \"min\": 1,\n        \"max\": 36,\n        \"num_unique_values\": 21,\n        \"samples\": [\n          7,\n          34\n        ],\n        \"semantic_type\": \"\",\n        \"description\": \"\"\n      }\n    },\n    {\n      \"column\": \"bathroom\",\n      \"properties\": {\n        \"dtype\": \"number\",\n        \"std\": 2,\n        \"min\": 1,\n        \"max\": 36,\n        \"num_unique_values\": 21,\n        \"samples\": [\n          7,\n          11\n        ],\n        \"semantic_type\": \"\",\n        \"description\": \"\"\n      }\n    },\n    {\n      \"column\": \"balcony\",\n      \"properties\": {\n        \"dtype\": \"category\",\n        \"num_unique_values\": 5,\n        \"samples\": [\n          \"2\",\n          \"0\"\n        ],\n        \"semantic_type\": \"\",\n        \"description\": \"\"\n      }\n    },\n    {\n      \"column\": \"additionalRoom\",\n      \"properties\": {\n        \"dtype\": \"category\",\n        \"num_unique_values\": 66,\n        \"samples\": [\n          \"servant room,pooja room,study room\",\n          \"pooja room,store room,servant room\"\n        ],\n        \"semantic_type\": \"\",\n        \"description\": \"\"\n      }\n    },\n    {\n      \"column\": \"address\",\n      \"properties\": {\n        \"dtype\": \"category\",\n        \"num_unique_values\": 1829,\n        \"samples\": [\n          \"Nnbbbbbbbbbb, Sector 85 Gurgaon, Gurgaon, Haryana\",\n          \"111, DLF Phase 1, Gurgaon, Haryana\"\n        ],\n        \"semantic_type\": \"\",\n        \"description\": \"\"\n      }\n    },\n    {\n      \"column\": \"floorNum\",\n      \"properties\": {\n        \"dtype\": \"number\",\n        \"std\": 6.005669369104654,\n        \"min\": 0.0,\n        \"max\": 51.0,\n        \"num_unique_values\": 44,\n        \"samples\": [\n          43.0,\n          22.0\n        ],\n        \"semantic_type\": \"\",\n        \"description\": \"\"\n      }\n    },\n    {\n      \"column\": \"facing\",\n      \"properties\": {\n        \"dtype\": \"category\",\n        \"num_unique_values\": 8,\n        \"samples\": [\n          \"North-East\",\n          \"South\"\n        ],\n        \"semantic_type\": \"\",\n        \"description\": \"\"\n      }\n    },\n    {\n      \"column\": \"agePossession\",\n      \"properties\": {\n        \"dtype\": \"category\",\n        \"num_unique_values\": 48,\n        \"samples\": [\n          \"2025-06-01 00:00:00\",\n          \"2025-11-01 00:00:00\"\n        ],\n        \"semantic_type\": \"\",\n        \"description\": \"\"\n      }\n    },\n    {\n      \"column\": \"nearbyLocations\",\n      \"properties\": {\n        \"dtype\": \"category\",\n        \"num_unique_values\": 877,\n        \"samples\": [\n          \"['Huda city centre metro station', 'Sector 42-43 metro station', 'Hanuman Mandir', 'New Life Church', 'Hdfc ATM', 'Standard chartered ATM', 'Hdfc bank ATM', 'Rbs ATM', 'Icici ATM', 'Citi bank ATM', 'Axis bank ATM', 'Hdfc ATM', 'Kotak mahindra bank ATM', 'Arihant Hospital', 'Gupta', 'Paras Hospital Gurgaon', 'Fortis Memorial Research Institute Fortis Vivekanand Hospital', 'Dr. Naval Mendiratta', 'Dr. Kutbuddin Akbary', 'Max Hospital', 'Pernod Ricard Charitable Dispensary', 'Guardian Pharmacy', 'Chikitsa', 'City Medical', 'Gardian Pharmacy', 'Bharat petroleum', 'Hdfc bank', 'Icici bank', 'Axis bank', 'PWO house', 'Balaji Vegetarian Paradise', 'The Chicken Boat', 'Naveidyam', 'Sagar Ratna', 'Cafe Tonini', 'Shophouse by Kylin', \\\"Carl's Jr.\\\", 'Starbucks', 'Raj Restaurant', 'CCD', 'Stones2milestones', 'School of Inspired Leadership SOIL', 'St. Angels Sr', 'St. Angels Jr', 'Ncr library', 'Bahrisons library']\",\n          \"['Sector 42-43 Metro station', 'Horizon 1 Mall', 'Golf Course Road', 'Gurgaon Faridabad Highway', 'Paras Hospital', 'IGI Airport', 'DLF Golf and Country Club', 'Ernst & Young', 'Ibis Hotel']\"\n        ],\n        \"semantic_type\": \"\",\n        \"description\": \"\"\n      }\n    },\n    {\n      \"column\": \"description\",\n      \"properties\": {\n        \"dtype\": \"string\",\n        \"num_unique_values\": 3717,\n        \"samples\": [\n          \"The best part about this property is that you have dedicated basement room and terrace included in the flat.\",\n          \"Exclusive area on crest road on park lane drive\"\n        ],\n        \"semantic_type\": \"\",\n        \"description\": \"\"\n      }\n    },\n    {\n      \"column\": \"furnishDetails\",\n      \"properties\": {\n        \"dtype\": \"category\",\n        \"num_unique_values\": 1859,\n        \"samples\": [\n          \"['2 Wardrobe', '5 Fan', '1 Exhaust Fan', '5 Light', '1 Modular Kitchen', 'No AC', 'No Bed', 'No Chimney', 'No Curtains', 'No Dining Table', 'No Geyser', 'No Microwave', 'No Fridge', 'No Sofa', 'No Stove', 'No TV', 'No Washing Machine', 'No Water Purifier']\",\n          \"['1 Water Purifier', '8 Fan', '1 Exhaust Fan', '2 Geyser', '1 Stove', '13 Light', '4 AC', '1 Modular Kitchen', '1 Chimney', '1 Curtains', '2 Wardrobe', 'No Bed', 'No Dining Table', 'No Microwave', 'No Fridge', 'No Sofa', 'No TV', 'No Washing Machine']\"\n        ],\n        \"semantic_type\": \"\",\n        \"description\": \"\"\n      }\n    },\n    {\n      \"column\": \"features\",\n      \"properties\": {\n        \"dtype\": \"category\",\n        \"num_unique_values\": 1897,\n        \"samples\": [\n          \"['Security / Fire Alarm', 'Power Back-up', 'Feng Shui / Vaastu Compliant', 'Intercom Facility', 'Lift(s)', 'Maintenance Staff', 'Water Storage', 'Visitor Parking', 'Swimming Pool', 'Park', 'Shopping Centre', 'Fitness Centre / GYM', 'Club house / Community Center', 'Water softening plant']\",\n          \"['Feng Shui / Vaastu Compliant', 'Private Garden / Terrace', 'Water purifier', 'High Ceiling Height', 'Maintenance Staff', 'False Ceiling Lighting', 'Water Storage', 'Visitor Parking', 'Security Personnel', 'Natural Light', 'Internet/wi-fi connectivity', 'Airy Rooms', 'Spacious Interiors', 'Fitness Centre / GYM', 'Waste Disposal', 'Rain Water Harvesting']\"\n        ],\n        \"semantic_type\": \"\",\n        \"description\": \"\"\n      }\n    },\n    {\n      \"column\": \"rating\",\n      \"properties\": {\n        \"dtype\": \"category\",\n        \"num_unique_values\": 361,\n        \"samples\": [\n          \"['Management4 out of 5', 'Green Area4 out of 5', 'Construction4 out of 5', 'Amenities4 out of 5', 'Connectivity4 out of 5']\",\n          \"['Safety4.5 out of 5', 'Lifestyle4 out of 5', 'Environment4.5 out of 5', 'Connectivity4.5 out of 5']\"\n        ],\n        \"semantic_type\": \"\",\n        \"description\": \"\"\n      }\n    }\n  ]\n}"
            }
          },
          "metadata": {},
          "execution_count": 131
        }
      ]
    },
    {
      "cell_type": "code",
      "source": [
        "df.to_csv('Gurgaon_Properties_data.csv' , index = False)"
      ],
      "metadata": {
        "id": "bzDcetabK8PZ"
      },
      "execution_count": 132,
      "outputs": []
    },
    {
      "cell_type": "code",
      "source": [],
      "metadata": {
        "id": "fzbJWnIjNTUw"
      },
      "execution_count": null,
      "outputs": []
    }
  ]
}